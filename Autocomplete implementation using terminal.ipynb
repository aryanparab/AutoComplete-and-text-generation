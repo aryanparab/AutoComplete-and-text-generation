{
 "cells": [
  {
   "cell_type": "code",
   "execution_count": 23,
   "metadata": {},
   "outputs": [],
   "source": [
    "from keras.models import load_model\n",
    "import pickle\n",
    "import numpy as np\n",
    "import msvcrt\n",
    "from keras.preprocessing.sequence import pad_sequences"
   ]
  },
  {
   "cell_type": "code",
   "execution_count": 24,
   "metadata": {},
   "outputs": [],
   "source": [
    "model = load_model('model_autocomplete.h5')\n",
    "tokenizer = pickle.load(open('tokenizer_autocomplete.pickle','rb'))"
   ]
  },
  {
   "cell_type": "code",
   "execution_count": 25,
   "metadata": {},
   "outputs": [],
   "source": [
    "text = 'the largest it has pioneered many ideas as conventions policies or features which were later adopted by wikipedia editions in some'"
   ]
  },
  {
   "cell_type": "code",
   "execution_count": 26,
   "metadata": {},
   "outputs": [],
   "source": [
    "text = tokenizer.texts_to_sequences([text])[0]\n",
    "text = pad_sequences([text],maxlen=20,truncating='pre')\n",
    "ypred = model.predict(text)"
   ]
  },
  {
   "cell_type": "code",
   "execution_count": 37,
   "metadata": {},
   "outputs": [],
   "source": [
    "def get_words(text):\n",
    "    text = tokenizer.texts_to_sequences([text])[0]\n",
    "    text = pad_sequences([text],maxlen=20,truncating='pre')\n",
    "    ypred = model.predict(text)\n",
    "    top_3  = np.argpartition(ypred,-4)[0][-4:-1]\n",
    "    suggestions = []\n",
    "    for word, item in tokenizer.word_index.items():\n",
    "        if item in top_3:\n",
    "            suggestions.append(word)\n",
    "        if len(suggestions) == 3:\n",
    "            break\n",
    "    return suggestions"
   ]
  },
  {
   "cell_type": "code",
   "execution_count": 38,
   "metadata": {},
   "outputs": [],
   "source": [
    "def main(): \n",
    "    c= ''\n",
    "    sent = ''\n",
    "    last_suggestion = []\n",
    "    while(c != b'\\r'):\n",
    "        c = input()\n",
    "        if(c!=b'\\t'):\n",
    "            c = msvcrt.getch()\n",
    "        else:\n",
    "            c = b' '\n",
    "        if (c != b'\\t'):\n",
    "            print(str(c.decode('utf-8')),end='',flush=True)\n",
    "        sent = sent + str(c.decode('utf-8'))  #create word on space\n",
    "        if(c == b' '):\n",
    "            tkns = sent.split()\n",
    "            if(len(tkns) < 2):  #only first space encountered yet\n",
    "                last_suggestion = get_words(tkns[0].lower())\n",
    "                print(last_suggestion, end='  ', flush=True)\n",
    "            else: #send a tuple\n",
    "                last_suggestion = get_words(sent)\n",
    "                print(last_suggestion, end='  ', flush=True)\n",
    "        if (c == b'\\t' and len(last_suggestion) > 0):   #print last suggestion on tab\n",
    "            print(last_suggestion[0], end='  ', flush=True)\n",
    "            sent = sent + \" \" + last_suggestion[0]\n",
    " "
   ]
  },
  {
   "cell_type": "code",
   "execution_count": 39,
   "metadata": {},
   "outputs": [
    {
     "name": "stdout",
     "output_type": "stream",
     "text": [
      "hI MY NAME is not accounted do\n",
      "\r"
     ]
    }
   ],
   "source": [
    "if __name__ == '__main__':\n",
    "    main()"
   ]
  },
  {
   "cell_type": "code",
   "execution_count": null,
   "metadata": {},
   "outputs": [],
   "source": []
  }
 ],
 "metadata": {
  "kernelspec": {
   "display_name": "Python 3",
   "language": "python",
   "name": "python3"
  },
  "language_info": {
   "codemirror_mode": {
    "name": "ipython",
    "version": 3
   },
   "file_extension": ".py",
   "mimetype": "text/x-python",
   "name": "python",
   "nbconvert_exporter": "python",
   "pygments_lexer": "ipython3",
   "version": "3.8.3"
  }
 },
 "nbformat": 4,
 "nbformat_minor": 4
}
