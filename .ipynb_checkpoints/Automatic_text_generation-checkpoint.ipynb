{
 "cells": [
  {
   "cell_type": "code",
   "execution_count": 43,
   "metadata": {
    "id": "IJ8OFcDLMoh7"
   },
   "outputs": [],
   "source": [
    "import tensorflow as tf\n",
    "import string\n",
    "import requests\n",
    "import bs4\n",
    "import re"
   ]
  },
  {
   "cell_type": "markdown",
   "metadata": {},
   "source": [
    "# Fetching Data\n"
   ]
  },
  {
   "cell_type": "code",
   "execution_count": 122,
   "metadata": {
    "id": "dI1NOcM3R5pB"
   },
   "outputs": [],
   "source": [
    "data = []"
   ]
  },
  {
   "cell_type": "code",
   "execution_count": 123,
   "metadata": {
    "id": "byASyTuNMwRy"
   },
   "outputs": [],
   "source": [
    "URLs = [\"https://en.wikipedia.org/wiki/Mumbai\",\"https://en.wikipedia.org/wiki/Coronavirus\",\"https://en.wikipedia.org/wiki/India\"]\n",
    "for URL in URLs:\n",
    "  request = requests.get(URL)\n",
    "  soup = bs4.BeautifulSoup(request.text , \"html.parser\")\n",
    "  text = soup.findAll('p')\n",
    "  #now store the extracted data\n",
    "  for p in text :\n",
    "    texts = p.get_text()\n",
    "    texts = re.sub('\\n' , ' ', texts)\n",
    "    data.append(texts)"
   ]
  },
  {
   "cell_type": "code",
   "execution_count": 89,
   "metadata": {
    "colab": {
     "base_uri": "https://localhost:8080/"
    },
    "id": "FckMG3DSSIv7",
    "outputId": "17f995b3-e0bd-4f79-85b1-5b1495ccca41"
   },
   "outputs": [
    {
     "data": {
      "text/plain": [
       "327"
      ]
     },
     "execution_count": 89,
     "metadata": {
      "tags": []
     },
     "output_type": "execute_result"
    }
   ],
   "source": [
    "len(data)"
   ]
  },
  {
   "cell_type": "code",
   "execution_count": 125,
   "metadata": {
    "id": "jYx2wKNDN__V"
   },
   "outputs": [],
   "source": [
    "data = \" \".join(data)"
   ]
  },
  {
   "cell_type": "markdown",
   "metadata": {},
   "source": [
    "# Preparing Data"
   ]
  },
  {
   "cell_type": "code",
   "execution_count": 91,
   "metadata": {
    "id": "xSmmTej8TKGr"
   },
   "outputs": [],
   "source": [
    "def clean_text(doc):\n",
    "  tokens = doc.split()\n",
    "  table = str.maketrans('','',string.punctuation)\n",
    "  tokens = [w.translate(table) for w in tokens]\n",
    "  tokens = [word for word in tokens if word.isalpha()]\n",
    "  tokens = [word.lower() for word in tokens]\n",
    "  return tokens"
   ]
  },
  {
   "cell_type": "code",
   "execution_count": 126,
   "metadata": {
    "id": "AEtogKGVTzan"
   },
   "outputs": [],
   "source": [
    "tokens = clean_text(data)"
   ]
  },
  {
   "cell_type": "code",
   "execution_count": 95,
   "metadata": {
    "colab": {
     "base_uri": "https://localhost:8080/"
    },
    "id": "03UEWJozVgVz",
    "outputId": "17fc647a-b7da-4f9a-90eb-33524456f134"
   },
   "outputs": [
    {
     "data": {
      "text/plain": [
       "30761"
      ]
     },
     "execution_count": 95,
     "metadata": {
      "tags": []
     },
     "output_type": "execute_result"
    }
   ],
   "source": [
    "len(tokens)"
   ]
  },
  {
   "cell_type": "code",
   "execution_count": 96,
   "metadata": {
    "colab": {
     "base_uri": "https://localhost:8080/"
    },
    "id": "N9WqcR1PTzX6",
    "outputId": "8151c181-5502-42ba-c401-0116823e0b6b"
   },
   "outputs": [
    {
     "data": {
      "text/plain": [
       "5503"
      ]
     },
     "execution_count": 96,
     "metadata": {
      "tags": []
     },
     "output_type": "execute_result"
    }
   ],
   "source": [
    "len(set(tokens))"
   ]
  },
  {
   "cell_type": "code",
   "execution_count": 127,
   "metadata": {
    "colab": {
     "base_uri": "https://localhost:8080/"
    },
    "id": "-PABb5LtTzTL",
    "outputId": "18bb5948-d9eb-4729-c4aa-4e15f2480d34"
   },
   "outputs": [
    {
     "name": "stdout",
     "output_type": "stream",
     "text": [
      "23674\n"
     ]
    }
   ],
   "source": [
    "length = 20 + 1 # first 20 words will be used to predict the 21st word. Thus preparing such lines\n",
    "lines = []\n",
    "\n",
    "for i in range(length,len(tokens)):\n",
    "  seq = tokens[i-length : i]\n",
    "  line = \" \".join(seq)\n",
    "  lines.append(line)\n",
    "\n",
    "print(len(lines))"
   ]
  },
  {
   "cell_type": "code",
   "execution_count": 128,
   "metadata": {
    "id": "YD3DpKv4UxOj"
   },
   "outputs": [],
   "source": [
    "import numpy as np\n",
    "from tensorflow.keras.preprocessing.text import Tokenizer\n",
    "from tensorflow.keras import Sequential\n",
    "from tensorflow.keras.utils import to_categorical\n",
    "from tensorflow.keras.layers import LSTM , Dense , Embedding\n",
    "from tensorflow.keras.preprocessing.sequence import pad_sequences"
   ]
  },
  {
   "cell_type": "code",
   "execution_count": 129,
   "metadata": {
    "id": "VDoz8W9uU6F1"
   },
   "outputs": [],
   "source": [
    "tokenizer = Tokenizer()\n",
    "tokenizer.fit_on_texts(lines)\n",
    "sequences = tokenizer.texts_to_sequences(lines)"
   ]
  },
  {
   "cell_type": "code",
   "execution_count": null,
   "metadata": {
    "id": "a5ezPflwcBvG"
   },
   "outputs": [],
   "source": [
    "sequences"
   ]
  },
  {
   "cell_type": "code",
   "execution_count": 130,
   "metadata": {
    "id": "A2Eb6UpSWJ5Q"
   },
   "outputs": [],
   "source": [
    "sequences = np.array(sequences)"
   ]
  },
  {
   "cell_type": "code",
   "execution_count": 131,
   "metadata": {
    "id": "jF0lnpLWWLRk"
   },
   "outputs": [],
   "source": [
    "X,y = sequences[:,:-1], sequences[:,-1]"
   ]
  },
  {
   "cell_type": "code",
   "execution_count": null,
   "metadata": {
    "id": "FAEswpNhW8kw"
   },
   "outputs": [],
   "source": [
    "tokenizer.word_index"
   ]
  },
  {
   "cell_type": "code",
   "execution_count": 132,
   "metadata": {
    "id": "ryax7PUTXHk_"
   },
   "outputs": [],
   "source": [
    "vocab_size = len(tokenizer.word_index)  + 1 "
   ]
  },
  {
   "cell_type": "code",
   "execution_count": 133,
   "metadata": {
    "id": "mN-tzfj0WW5j"
   },
   "outputs": [],
   "source": [
    "y = to_categorical(y,num_classes=vocab_size)\n",
    "seq_length = X.shape[1]"
   ]
  },
  {
   "cell_type": "markdown",
   "metadata": {},
   "source": [
    "# Model creation"
   ]
  },
  {
   "cell_type": "code",
   "execution_count": 134,
   "metadata": {
    "id": "g2scK4buWXgX"
   },
   "outputs": [],
   "source": [
    "model = Sequential()\n",
    "model.add(Embedding(vocab_size , 50,input_length=seq_length))\n",
    "model.add(LSTM(100,return_sequences=True))\n",
    "model.add(LSTM(100))\n",
    "model.add(Dense(100,activation='relu'))\n",
    "model.add(Dense(vocab_size,activation='softmax'))"
   ]
  },
  {
   "cell_type": "code",
   "execution_count": 135,
   "metadata": {
    "colab": {
     "base_uri": "https://localhost:8080/"
    },
    "id": "5OgHlwBcWXaw",
    "outputId": "23c78cb5-f7b0-4b28-9ade-a9fb3f01cd8b"
   },
   "outputs": [
    {
     "name": "stdout",
     "output_type": "stream",
     "text": [
      "Model: \"sequential_3\"\n",
      "_________________________________________________________________\n",
      "Layer (type)                 Output Shape              Param #   \n",
      "=================================================================\n",
      "embedding_3 (Embedding)      (None, 20, 50)            247400    \n",
      "_________________________________________________________________\n",
      "lstm_6 (LSTM)                (None, 20, 100)           60400     \n",
      "_________________________________________________________________\n",
      "lstm_7 (LSTM)                (None, 100)               80400     \n",
      "_________________________________________________________________\n",
      "dense_6 (Dense)              (None, 100)               10100     \n",
      "_________________________________________________________________\n",
      "dense_7 (Dense)              (None, 4948)              499748    \n",
      "=================================================================\n",
      "Total params: 898,048\n",
      "Trainable params: 898,048\n",
      "Non-trainable params: 0\n",
      "_________________________________________________________________\n"
     ]
    }
   ],
   "source": [
    "model.summary()"
   ]
  },
  {
   "cell_type": "code",
   "execution_count": 136,
   "metadata": {
    "id": "VIuH5WaHYcgq"
   },
   "outputs": [],
   "source": [
    "model.compile(loss=\"categorical_crossentropy\",optimizer='adam',metrics = ['accuracy'])"
   ]
  },
  {
   "cell_type": "code",
   "execution_count": 137,
   "metadata": {
    "colab": {
     "base_uri": "https://localhost:8080/"
    },
    "id": "Jzj0xYpGYoVL",
    "outputId": "661085fb-12d5-4a9d-d622-1d2c729cea5b"
   },
   "outputs": [
    {
     "name": "stdout",
     "output_type": "stream",
     "text": [
      "Epoch 1/500\n",
      "93/93 [==============================] - 4s 15ms/step - loss: 7.7226 - accuracy: 0.0805\n",
      "Epoch 2/500\n",
      "93/93 [==============================] - 1s 14ms/step - loss: 6.6609 - accuracy: 0.0899\n",
      "Epoch 3/500\n",
      "93/93 [==============================] - 1s 14ms/step - loss: 6.6238 - accuracy: 0.0872\n",
      "Epoch 4/500\n",
      "93/93 [==============================] - 1s 13ms/step - loss: 6.5170 - accuracy: 0.0874\n",
      "Epoch 5/500\n",
      "93/93 [==============================] - 1s 13ms/step - loss: 6.4135 - accuracy: 0.0906\n",
      "Epoch 6/500\n",
      "93/93 [==============================] - 1s 14ms/step - loss: 6.3737 - accuracy: 0.1007\n",
      "Epoch 7/500\n",
      "93/93 [==============================] - 1s 14ms/step - loss: 6.2147 - accuracy: 0.1131\n",
      "Epoch 8/500\n",
      "93/93 [==============================] - 1s 14ms/step - loss: 6.1577 - accuracy: 0.1133\n",
      "Epoch 9/500\n",
      "93/93 [==============================] - 1s 14ms/step - loss: 6.0382 - accuracy: 0.1175\n",
      "Epoch 10/500\n",
      "93/93 [==============================] - 1s 14ms/step - loss: 5.9647 - accuracy: 0.1215\n",
      "Epoch 11/500\n",
      "93/93 [==============================] - 1s 14ms/step - loss: 5.8709 - accuracy: 0.1255\n",
      "Epoch 12/500\n",
      "93/93 [==============================] - 1s 14ms/step - loss: 5.7780 - accuracy: 0.1260\n",
      "Epoch 13/500\n",
      "93/93 [==============================] - 1s 14ms/step - loss: 5.7165 - accuracy: 0.1302\n",
      "Epoch 14/500\n",
      "93/93 [==============================] - 1s 14ms/step - loss: 5.6679 - accuracy: 0.1325\n",
      "Epoch 15/500\n",
      "93/93 [==============================] - 1s 14ms/step - loss: 5.5569 - accuracy: 0.1437\n",
      "Epoch 16/500\n",
      "93/93 [==============================] - 1s 14ms/step - loss: 5.4985 - accuracy: 0.1516\n",
      "Epoch 17/500\n",
      "93/93 [==============================] - 1s 14ms/step - loss: 5.4483 - accuracy: 0.1516\n",
      "Epoch 18/500\n",
      "93/93 [==============================] - 1s 14ms/step - loss: 5.3692 - accuracy: 0.1619\n",
      "Epoch 19/500\n",
      "93/93 [==============================] - 1s 14ms/step - loss: 5.3040 - accuracy: 0.1640\n",
      "Epoch 20/500\n",
      "93/93 [==============================] - 1s 14ms/step - loss: 5.2242 - accuracy: 0.1701\n",
      "Epoch 21/500\n",
      "93/93 [==============================] - 1s 14ms/step - loss: 5.1778 - accuracy: 0.1752\n",
      "Epoch 22/500\n",
      "93/93 [==============================] - 1s 14ms/step - loss: 5.0958 - accuracy: 0.1759\n",
      "Epoch 23/500\n",
      "93/93 [==============================] - 1s 15ms/step - loss: 5.0496 - accuracy: 0.1805\n",
      "Epoch 24/500\n",
      "93/93 [==============================] - 1s 15ms/step - loss: 4.9829 - accuracy: 0.1817\n",
      "Epoch 25/500\n",
      "93/93 [==============================] - 1s 14ms/step - loss: 4.9095 - accuracy: 0.1877\n",
      "Epoch 26/500\n",
      "93/93 [==============================] - 1s 14ms/step - loss: 4.8645 - accuracy: 0.1880\n",
      "Epoch 27/500\n",
      "93/93 [==============================] - 1s 14ms/step - loss: 4.8026 - accuracy: 0.1896\n",
      "Epoch 28/500\n",
      "93/93 [==============================] - 1s 14ms/step - loss: 4.7337 - accuracy: 0.1954\n",
      "Epoch 29/500\n",
      "93/93 [==============================] - 1s 14ms/step - loss: 4.6771 - accuracy: 0.1937\n",
      "Epoch 30/500\n",
      "93/93 [==============================] - 1s 14ms/step - loss: 4.5979 - accuracy: 0.2025\n",
      "Epoch 31/500\n",
      "93/93 [==============================] - 1s 14ms/step - loss: 4.5567 - accuracy: 0.2029\n",
      "Epoch 32/500\n",
      "93/93 [==============================] - 1s 13ms/step - loss: 4.5211 - accuracy: 0.2000\n",
      "Epoch 33/500\n",
      "93/93 [==============================] - 1s 13ms/step - loss: 4.4503 - accuracy: 0.2075\n",
      "Epoch 34/500\n",
      "93/93 [==============================] - 1s 13ms/step - loss: 4.4337 - accuracy: 0.2080\n",
      "Epoch 35/500\n",
      "93/93 [==============================] - 1s 14ms/step - loss: 4.3815 - accuracy: 0.2091\n",
      "Epoch 36/500\n",
      "93/93 [==============================] - 1s 13ms/step - loss: 4.3464 - accuracy: 0.2119\n",
      "Epoch 37/500\n",
      "93/93 [==============================] - 1s 14ms/step - loss: 4.3404 - accuracy: 0.2097\n",
      "Epoch 38/500\n",
      "93/93 [==============================] - 1s 14ms/step - loss: 4.2743 - accuracy: 0.2124\n",
      "Epoch 39/500\n",
      "93/93 [==============================] - 1s 14ms/step - loss: 4.1953 - accuracy: 0.2222\n",
      "Epoch 40/500\n",
      "93/93 [==============================] - 1s 14ms/step - loss: 4.1778 - accuracy: 0.2209\n",
      "Epoch 41/500\n",
      "93/93 [==============================] - 1s 13ms/step - loss: 4.1434 - accuracy: 0.2213\n",
      "Epoch 42/500\n",
      "93/93 [==============================] - 1s 14ms/step - loss: 4.1153 - accuracy: 0.2244\n",
      "Epoch 43/500\n",
      "93/93 [==============================] - 1s 14ms/step - loss: 4.0688 - accuracy: 0.2283\n",
      "Epoch 44/500\n",
      "93/93 [==============================] - 1s 14ms/step - loss: 4.0471 - accuracy: 0.2267\n",
      "Epoch 45/500\n",
      "93/93 [==============================] - 1s 13ms/step - loss: 3.9875 - accuracy: 0.2399\n",
      "Epoch 46/500\n",
      "93/93 [==============================] - 1s 13ms/step - loss: 3.9654 - accuracy: 0.2389\n",
      "Epoch 47/500\n",
      "93/93 [==============================] - 1s 14ms/step - loss: 3.9640 - accuracy: 0.2373\n",
      "Epoch 48/500\n",
      "93/93 [==============================] - 1s 14ms/step - loss: 3.8662 - accuracy: 0.2495\n",
      "Epoch 49/500\n",
      "93/93 [==============================] - 1s 14ms/step - loss: 3.8415 - accuracy: 0.2454\n",
      "Epoch 50/500\n",
      "93/93 [==============================] - 1s 13ms/step - loss: 3.7914 - accuracy: 0.2528\n",
      "Epoch 51/500\n",
      "93/93 [==============================] - 1s 14ms/step - loss: 3.7707 - accuracy: 0.2560\n",
      "Epoch 52/500\n",
      "93/93 [==============================] - 1s 14ms/step - loss: 3.7430 - accuracy: 0.2537\n",
      "Epoch 53/500\n",
      "93/93 [==============================] - 1s 14ms/step - loss: 3.7250 - accuracy: 0.2542\n",
      "Epoch 54/500\n",
      "93/93 [==============================] - 1s 14ms/step - loss: 3.6778 - accuracy: 0.2600\n",
      "Epoch 55/500\n",
      "93/93 [==============================] - 1s 14ms/step - loss: 3.6554 - accuracy: 0.2607\n",
      "Epoch 56/500\n",
      "93/93 [==============================] - 1s 14ms/step - loss: 3.6296 - accuracy: 0.2679\n",
      "Epoch 57/500\n",
      "93/93 [==============================] - 1s 15ms/step - loss: 3.5600 - accuracy: 0.2737\n",
      "Epoch 58/500\n",
      "93/93 [==============================] - 1s 15ms/step - loss: 3.5512 - accuracy: 0.2782\n",
      "Epoch 59/500\n",
      "93/93 [==============================] - 1s 14ms/step - loss: 3.5127 - accuracy: 0.2811\n",
      "Epoch 60/500\n",
      "93/93 [==============================] - 1s 14ms/step - loss: 3.4855 - accuracy: 0.2852\n",
      "Epoch 61/500\n",
      "93/93 [==============================] - 1s 14ms/step - loss: 3.4552 - accuracy: 0.2878\n",
      "Epoch 62/500\n",
      "93/93 [==============================] - 1s 14ms/step - loss: 3.4352 - accuracy: 0.2913\n",
      "Epoch 63/500\n",
      "93/93 [==============================] - 1s 14ms/step - loss: 3.3927 - accuracy: 0.2925\n",
      "Epoch 64/500\n",
      "93/93 [==============================] - 1s 14ms/step - loss: 3.3838 - accuracy: 0.2938\n",
      "Epoch 65/500\n",
      "93/93 [==============================] - 1s 14ms/step - loss: 3.3613 - accuracy: 0.2996\n",
      "Epoch 66/500\n",
      "93/93 [==============================] - 1s 14ms/step - loss: 3.3136 - accuracy: 0.3070\n",
      "Epoch 67/500\n",
      "93/93 [==============================] - 1s 14ms/step - loss: 3.2584 - accuracy: 0.3132\n",
      "Epoch 68/500\n",
      "93/93 [==============================] - 1s 14ms/step - loss: 3.2590 - accuracy: 0.3140\n",
      "Epoch 69/500\n",
      "93/93 [==============================] - 1s 14ms/step - loss: 3.2304 - accuracy: 0.3214\n",
      "Epoch 70/500\n",
      "93/93 [==============================] - 1s 14ms/step - loss: 3.1958 - accuracy: 0.3198\n",
      "Epoch 71/500\n",
      "93/93 [==============================] - 1s 14ms/step - loss: 3.1629 - accuracy: 0.3266\n",
      "Epoch 72/500\n",
      "93/93 [==============================] - 1s 14ms/step - loss: 3.1673 - accuracy: 0.3251\n",
      "Epoch 73/500\n",
      "93/93 [==============================] - 1s 14ms/step - loss: 3.1326 - accuracy: 0.3312\n",
      "Epoch 74/500\n",
      "93/93 [==============================] - 1s 14ms/step - loss: 3.0959 - accuracy: 0.3404\n",
      "Epoch 75/500\n",
      "93/93 [==============================] - 1s 14ms/step - loss: 3.0615 - accuracy: 0.3409\n",
      "Epoch 76/500\n",
      "93/93 [==============================] - 1s 14ms/step - loss: 3.0357 - accuracy: 0.3481\n",
      "Epoch 77/500\n",
      "93/93 [==============================] - 1s 14ms/step - loss: 3.0173 - accuracy: 0.3456\n",
      "Epoch 78/500\n",
      "93/93 [==============================] - 1s 14ms/step - loss: 3.0028 - accuracy: 0.3457\n",
      "Epoch 79/500\n",
      "93/93 [==============================] - 1s 14ms/step - loss: 2.9671 - accuracy: 0.3524\n",
      "Epoch 80/500\n",
      "93/93 [==============================] - 1s 14ms/step - loss: 2.9397 - accuracy: 0.3631\n",
      "Epoch 81/500\n",
      "93/93 [==============================] - 1s 14ms/step - loss: 2.9077 - accuracy: 0.3689\n",
      "Epoch 82/500\n",
      "93/93 [==============================] - 1s 14ms/step - loss: 2.9138 - accuracy: 0.3651\n",
      "Epoch 83/500\n",
      "93/93 [==============================] - 1s 14ms/step - loss: 2.8532 - accuracy: 0.3741\n",
      "Epoch 84/500\n",
      "93/93 [==============================] - 1s 14ms/step - loss: 2.8381 - accuracy: 0.3798\n",
      "Epoch 85/500\n",
      "93/93 [==============================] - 1s 13ms/step - loss: 2.8295 - accuracy: 0.3762\n",
      "Epoch 86/500\n",
      "93/93 [==============================] - 1s 14ms/step - loss: 2.8040 - accuracy: 0.3858\n",
      "Epoch 87/500\n",
      "93/93 [==============================] - 1s 14ms/step - loss: 2.7454 - accuracy: 0.3951\n",
      "Epoch 88/500\n",
      "93/93 [==============================] - 1s 14ms/step - loss: 2.7475 - accuracy: 0.3936\n",
      "Epoch 89/500\n",
      "93/93 [==============================] - 1s 15ms/step - loss: 2.7439 - accuracy: 0.3968\n",
      "Epoch 90/500\n",
      "93/93 [==============================] - 1s 14ms/step - loss: 2.6846 - accuracy: 0.4053\n",
      "Epoch 91/500\n",
      "93/93 [==============================] - 1s 14ms/step - loss: 2.7033 - accuracy: 0.4040\n",
      "Epoch 92/500\n",
      "93/93 [==============================] - 1s 14ms/step - loss: 2.6395 - accuracy: 0.4137\n",
      "Epoch 93/500\n",
      "93/93 [==============================] - 1s 14ms/step - loss: 2.6251 - accuracy: 0.4176\n",
      "Epoch 94/500\n",
      "93/93 [==============================] - 1s 14ms/step - loss: 2.6101 - accuracy: 0.4218\n",
      "Epoch 95/500\n",
      "93/93 [==============================] - 1s 14ms/step - loss: 2.6088 - accuracy: 0.4197\n",
      "Epoch 96/500\n",
      "93/93 [==============================] - 1s 14ms/step - loss: 2.5864 - accuracy: 0.4247\n",
      "Epoch 97/500\n",
      "93/93 [==============================] - 1s 13ms/step - loss: 2.5593 - accuracy: 0.4261\n",
      "Epoch 98/500\n",
      "93/93 [==============================] - 1s 14ms/step - loss: 2.5435 - accuracy: 0.4336\n",
      "Epoch 99/500\n",
      "93/93 [==============================] - 1s 13ms/step - loss: 2.4922 - accuracy: 0.4446\n",
      "Epoch 100/500\n",
      "93/93 [==============================] - 1s 14ms/step - loss: 2.4914 - accuracy: 0.4420\n",
      "Epoch 101/500\n",
      "93/93 [==============================] - 1s 14ms/step - loss: 2.4542 - accuracy: 0.4500\n",
      "Epoch 102/500\n",
      "93/93 [==============================] - 1s 14ms/step - loss: 2.4447 - accuracy: 0.4530\n",
      "Epoch 103/500\n",
      "93/93 [==============================] - 1s 14ms/step - loss: 2.4381 - accuracy: 0.4573\n",
      "Epoch 104/500\n",
      "93/93 [==============================] - 1s 14ms/step - loss: 2.3989 - accuracy: 0.4624\n",
      "Epoch 105/500\n",
      "93/93 [==============================] - 1s 14ms/step - loss: 2.3785 - accuracy: 0.4619\n",
      "Epoch 106/500\n",
      "93/93 [==============================] - 1s 14ms/step - loss: 2.3444 - accuracy: 0.4678\n",
      "Epoch 107/500\n",
      "93/93 [==============================] - 1s 14ms/step - loss: 2.3509 - accuracy: 0.4713\n",
      "Epoch 108/500\n",
      "93/93 [==============================] - 1s 14ms/step - loss: 2.3249 - accuracy: 0.4765\n",
      "Epoch 109/500\n",
      "93/93 [==============================] - 1s 14ms/step - loss: 2.3142 - accuracy: 0.4771\n",
      "Epoch 110/500\n",
      "93/93 [==============================] - 1s 14ms/step - loss: 2.2830 - accuracy: 0.4787\n",
      "Epoch 111/500\n",
      "93/93 [==============================] - 1s 14ms/step - loss: 2.2812 - accuracy: 0.4807\n",
      "Epoch 112/500\n",
      "93/93 [==============================] - 1s 14ms/step - loss: 2.2667 - accuracy: 0.4864\n",
      "Epoch 113/500\n",
      "93/93 [==============================] - 1s 14ms/step - loss: 2.2366 - accuracy: 0.4901\n",
      "Epoch 114/500\n",
      "93/93 [==============================] - 1s 14ms/step - loss: 2.2308 - accuracy: 0.4920\n",
      "Epoch 115/500\n",
      "93/93 [==============================] - 1s 14ms/step - loss: 2.1933 - accuracy: 0.4987\n",
      "Epoch 116/500\n",
      "93/93 [==============================] - 1s 14ms/step - loss: 2.1980 - accuracy: 0.5027\n",
      "Epoch 117/500\n",
      "93/93 [==============================] - 1s 14ms/step - loss: 2.1617 - accuracy: 0.5064\n",
      "Epoch 118/500\n",
      "93/93 [==============================] - 1s 14ms/step - loss: 2.1445 - accuracy: 0.5108\n",
      "Epoch 119/500\n",
      "93/93 [==============================] - 1s 14ms/step - loss: 2.0901 - accuracy: 0.5209\n",
      "Epoch 120/500\n",
      "93/93 [==============================] - 1s 14ms/step - loss: 2.1183 - accuracy: 0.5137\n",
      "Epoch 121/500\n",
      "93/93 [==============================] - 1s 14ms/step - loss: 2.1012 - accuracy: 0.5161\n",
      "Epoch 122/500\n",
      "93/93 [==============================] - 1s 14ms/step - loss: 2.0658 - accuracy: 0.5264\n",
      "Epoch 123/500\n",
      "93/93 [==============================] - 1s 14ms/step - loss: 2.0497 - accuracy: 0.5304\n",
      "Epoch 124/500\n",
      "93/93 [==============================] - 1s 14ms/step - loss: 2.0230 - accuracy: 0.5306\n",
      "Epoch 125/500\n",
      "93/93 [==============================] - 1s 14ms/step - loss: 2.0341 - accuracy: 0.5350\n",
      "Epoch 126/500\n",
      "93/93 [==============================] - 1s 14ms/step - loss: 2.0199 - accuracy: 0.5329\n",
      "Epoch 127/500\n",
      "93/93 [==============================] - 1s 14ms/step - loss: 1.9840 - accuracy: 0.5430\n",
      "Epoch 128/500\n",
      "93/93 [==============================] - 1s 14ms/step - loss: 1.9637 - accuracy: 0.5453\n",
      "Epoch 129/500\n",
      "93/93 [==============================] - 1s 14ms/step - loss: 1.9696 - accuracy: 0.5395\n",
      "Epoch 130/500\n",
      "93/93 [==============================] - 1s 14ms/step - loss: 1.9165 - accuracy: 0.5534\n",
      "Epoch 131/500\n",
      "93/93 [==============================] - 1s 14ms/step - loss: 1.9331 - accuracy: 0.5546\n",
      "Epoch 132/500\n",
      "93/93 [==============================] - 1s 14ms/step - loss: 1.9076 - accuracy: 0.5574\n",
      "Epoch 133/500\n",
      "93/93 [==============================] - 1s 14ms/step - loss: 1.8817 - accuracy: 0.5600\n",
      "Epoch 134/500\n",
      "93/93 [==============================] - 1s 14ms/step - loss: 1.8862 - accuracy: 0.5628\n",
      "Epoch 135/500\n",
      "93/93 [==============================] - 1s 14ms/step - loss: 1.8797 - accuracy: 0.5621\n",
      "Epoch 136/500\n",
      "93/93 [==============================] - 1s 14ms/step - loss: 1.8621 - accuracy: 0.5612\n",
      "Epoch 137/500\n",
      "93/93 [==============================] - 1s 14ms/step - loss: 1.8319 - accuracy: 0.5685\n",
      "Epoch 138/500\n",
      "93/93 [==============================] - 1s 14ms/step - loss: 1.8162 - accuracy: 0.5830\n",
      "Epoch 139/500\n",
      "93/93 [==============================] - 1s 14ms/step - loss: 1.8145 - accuracy: 0.5786\n",
      "Epoch 140/500\n",
      "93/93 [==============================] - 1s 14ms/step - loss: 1.7886 - accuracy: 0.5809\n",
      "Epoch 141/500\n",
      "93/93 [==============================] - 1s 15ms/step - loss: 1.7800 - accuracy: 0.5830\n",
      "Epoch 142/500\n",
      "93/93 [==============================] - 1s 14ms/step - loss: 1.7551 - accuracy: 0.5888\n",
      "Epoch 143/500\n",
      "93/93 [==============================] - 1s 14ms/step - loss: 1.7604 - accuracy: 0.5886\n",
      "Epoch 144/500\n",
      "93/93 [==============================] - 1s 14ms/step - loss: 1.7479 - accuracy: 0.5897\n",
      "Epoch 145/500\n",
      "93/93 [==============================] - 1s 14ms/step - loss: 1.7451 - accuracy: 0.5881\n",
      "Epoch 146/500\n",
      "93/93 [==============================] - 1s 14ms/step - loss: 1.7180 - accuracy: 0.5979\n",
      "Epoch 147/500\n",
      "93/93 [==============================] - 1s 15ms/step - loss: 1.6910 - accuracy: 0.6033\n",
      "Epoch 148/500\n",
      "93/93 [==============================] - 1s 14ms/step - loss: 1.6861 - accuracy: 0.6027\n",
      "Epoch 149/500\n",
      "93/93 [==============================] - 1s 15ms/step - loss: 1.6459 - accuracy: 0.6114\n",
      "Epoch 150/500\n",
      "93/93 [==============================] - 1s 14ms/step - loss: 1.6663 - accuracy: 0.6078\n",
      "Epoch 151/500\n",
      "93/93 [==============================] - 1s 14ms/step - loss: 1.6556 - accuracy: 0.6105\n",
      "Epoch 152/500\n",
      "93/93 [==============================] - 1s 15ms/step - loss: 1.6461 - accuracy: 0.6111\n",
      "Epoch 153/500\n",
      "93/93 [==============================] - 1s 15ms/step - loss: 1.6346 - accuracy: 0.6152\n",
      "Epoch 154/500\n",
      "93/93 [==============================] - 1s 14ms/step - loss: 1.6140 - accuracy: 0.6201\n",
      "Epoch 155/500\n",
      "93/93 [==============================] - 1s 14ms/step - loss: 1.5828 - accuracy: 0.6310\n",
      "Epoch 156/500\n",
      "93/93 [==============================] - 1s 14ms/step - loss: 1.5682 - accuracy: 0.6343\n",
      "Epoch 157/500\n",
      "93/93 [==============================] - 1s 14ms/step - loss: 1.5554 - accuracy: 0.6357\n",
      "Epoch 158/500\n",
      "93/93 [==============================] - 1s 14ms/step - loss: 1.5535 - accuracy: 0.6395\n",
      "Epoch 159/500\n",
      "93/93 [==============================] - 1s 14ms/step - loss: 1.5461 - accuracy: 0.6334\n",
      "Epoch 160/500\n",
      "93/93 [==============================] - 1s 14ms/step - loss: 1.5414 - accuracy: 0.6339\n",
      "Epoch 161/500\n",
      "93/93 [==============================] - 1s 14ms/step - loss: 1.5318 - accuracy: 0.6402\n",
      "Epoch 162/500\n",
      "93/93 [==============================] - 1s 14ms/step - loss: 1.5020 - accuracy: 0.6414\n",
      "Epoch 163/500\n",
      "93/93 [==============================] - 1s 14ms/step - loss: 1.4934 - accuracy: 0.6433\n",
      "Epoch 164/500\n",
      "93/93 [==============================] - 1s 14ms/step - loss: 1.5041 - accuracy: 0.6377\n",
      "Epoch 165/500\n",
      "93/93 [==============================] - 1s 14ms/step - loss: 1.4613 - accuracy: 0.6578\n",
      "Epoch 166/500\n",
      "93/93 [==============================] - 1s 14ms/step - loss: 1.4901 - accuracy: 0.6470\n",
      "Epoch 167/500\n",
      "93/93 [==============================] - 1s 14ms/step - loss: 1.4714 - accuracy: 0.6508\n",
      "Epoch 168/500\n",
      "93/93 [==============================] - 1s 14ms/step - loss: 1.4601 - accuracy: 0.6553\n",
      "Epoch 169/500\n",
      "93/93 [==============================] - 1s 14ms/step - loss: 1.4073 - accuracy: 0.6655\n",
      "Epoch 170/500\n",
      "93/93 [==============================] - 1s 14ms/step - loss: 1.4103 - accuracy: 0.6628\n",
      "Epoch 171/500\n",
      "93/93 [==============================] - 1s 14ms/step - loss: 1.4058 - accuracy: 0.6634\n",
      "Epoch 172/500\n",
      "93/93 [==============================] - 1s 14ms/step - loss: 1.4012 - accuracy: 0.6678\n",
      "Epoch 173/500\n",
      "93/93 [==============================] - 1s 14ms/step - loss: 1.3882 - accuracy: 0.6678\n",
      "Epoch 174/500\n",
      "93/93 [==============================] - 1s 14ms/step - loss: 1.3908 - accuracy: 0.6639\n",
      "Epoch 175/500\n",
      "93/93 [==============================] - 1s 14ms/step - loss: 1.3873 - accuracy: 0.6677\n",
      "Epoch 176/500\n",
      "93/93 [==============================] - 1s 14ms/step - loss: 1.3658 - accuracy: 0.6725\n",
      "Epoch 177/500\n",
      "93/93 [==============================] - 1s 14ms/step - loss: 1.3617 - accuracy: 0.6744\n",
      "Epoch 178/500\n",
      "93/93 [==============================] - 1s 14ms/step - loss: 1.3340 - accuracy: 0.6772\n",
      "Epoch 179/500\n",
      "93/93 [==============================] - 1s 14ms/step - loss: 1.5206 - accuracy: 0.6475\n",
      "Epoch 180/500\n",
      "93/93 [==============================] - 1s 14ms/step - loss: 1.5474 - accuracy: 0.6224\n",
      "Epoch 181/500\n",
      "93/93 [==============================] - 1s 14ms/step - loss: 1.4296 - accuracy: 0.6527\n",
      "Epoch 182/500\n",
      "93/93 [==============================] - 1s 14ms/step - loss: 1.3444 - accuracy: 0.6761\n",
      "Epoch 183/500\n",
      "93/93 [==============================] - 1s 14ms/step - loss: 1.2739 - accuracy: 0.6964\n",
      "Epoch 184/500\n",
      "93/93 [==============================] - 1s 14ms/step - loss: 1.2750 - accuracy: 0.6940\n",
      "Epoch 185/500\n",
      "93/93 [==============================] - 1s 14ms/step - loss: 1.2506 - accuracy: 0.7023\n",
      "Epoch 186/500\n",
      "93/93 [==============================] - 1s 14ms/step - loss: 1.2490 - accuracy: 0.7071\n",
      "Epoch 187/500\n",
      "93/93 [==============================] - 1s 14ms/step - loss: 1.2198 - accuracy: 0.7099\n",
      "Epoch 188/500\n",
      "93/93 [==============================] - 1s 14ms/step - loss: 1.2511 - accuracy: 0.7008\n",
      "Epoch 189/500\n",
      "93/93 [==============================] - 1s 14ms/step - loss: 1.2299 - accuracy: 0.7069\n",
      "Epoch 190/500\n",
      "93/93 [==============================] - 1s 14ms/step - loss: 1.2115 - accuracy: 0.7117\n",
      "Epoch 191/500\n",
      "93/93 [==============================] - 1s 14ms/step - loss: 1.2280 - accuracy: 0.7074\n",
      "Epoch 192/500\n",
      "93/93 [==============================] - 1s 14ms/step - loss: 1.2022 - accuracy: 0.7096\n",
      "Epoch 193/500\n",
      "93/93 [==============================] - 1s 14ms/step - loss: 1.1876 - accuracy: 0.7153\n",
      "Epoch 194/500\n",
      "93/93 [==============================] - 1s 14ms/step - loss: 1.1837 - accuracy: 0.7151\n",
      "Epoch 195/500\n",
      "93/93 [==============================] - 1s 14ms/step - loss: 1.1815 - accuracy: 0.7162\n",
      "Epoch 196/500\n",
      "93/93 [==============================] - 1s 14ms/step - loss: 1.1695 - accuracy: 0.7229\n",
      "Epoch 197/500\n",
      "93/93 [==============================] - 1s 14ms/step - loss: 1.1916 - accuracy: 0.7100\n",
      "Epoch 198/500\n",
      "93/93 [==============================] - 1s 14ms/step - loss: 1.1593 - accuracy: 0.7185\n",
      "Epoch 199/500\n",
      "93/93 [==============================] - 1s 14ms/step - loss: 1.1644 - accuracy: 0.7161\n",
      "Epoch 200/500\n",
      "93/93 [==============================] - 1s 14ms/step - loss: 1.1416 - accuracy: 0.7243\n",
      "Epoch 201/500\n",
      "93/93 [==============================] - 1s 14ms/step - loss: 1.1557 - accuracy: 0.7178\n",
      "Epoch 202/500\n",
      "93/93 [==============================] - 1s 14ms/step - loss: 1.1186 - accuracy: 0.7292\n",
      "Epoch 203/500\n",
      "93/93 [==============================] - 1s 14ms/step - loss: 1.1254 - accuracy: 0.7284\n",
      "Epoch 204/500\n",
      "93/93 [==============================] - 1s 14ms/step - loss: 1.1206 - accuracy: 0.7291\n",
      "Epoch 205/500\n",
      "93/93 [==============================] - 1s 14ms/step - loss: 1.0969 - accuracy: 0.7332\n",
      "Epoch 206/500\n",
      "93/93 [==============================] - 1s 14ms/step - loss: 1.0800 - accuracy: 0.7427\n",
      "Epoch 207/500\n",
      "93/93 [==============================] - 1s 14ms/step - loss: 1.0702 - accuracy: 0.7392\n",
      "Epoch 208/500\n",
      "93/93 [==============================] - 1s 14ms/step - loss: 1.0593 - accuracy: 0.7456\n",
      "Epoch 209/500\n",
      "93/93 [==============================] - 1s 14ms/step - loss: 1.0625 - accuracy: 0.7401\n",
      "Epoch 210/500\n",
      "93/93 [==============================] - 1s 14ms/step - loss: 1.0582 - accuracy: 0.7429\n",
      "Epoch 211/500\n",
      "93/93 [==============================] - 1s 14ms/step - loss: 1.0392 - accuracy: 0.7488\n",
      "Epoch 212/500\n",
      "93/93 [==============================] - 1s 14ms/step - loss: 1.0413 - accuracy: 0.7467\n",
      "Epoch 213/500\n",
      "93/93 [==============================] - 1s 14ms/step - loss: 1.0490 - accuracy: 0.7486\n",
      "Epoch 214/500\n",
      "93/93 [==============================] - 1s 14ms/step - loss: 1.0411 - accuracy: 0.7458\n",
      "Epoch 215/500\n",
      "93/93 [==============================] - 1s 15ms/step - loss: 1.0273 - accuracy: 0.7508\n",
      "Epoch 216/500\n",
      "93/93 [==============================] - 1s 14ms/step - loss: 1.0076 - accuracy: 0.7555\n",
      "Epoch 217/500\n",
      "93/93 [==============================] - 1s 15ms/step - loss: 1.0082 - accuracy: 0.7553\n",
      "Epoch 218/500\n",
      "93/93 [==============================] - 1s 14ms/step - loss: 1.0085 - accuracy: 0.7553\n",
      "Epoch 219/500\n",
      "93/93 [==============================] - 1s 14ms/step - loss: 0.9761 - accuracy: 0.7613\n",
      "Epoch 220/500\n",
      "93/93 [==============================] - 1s 14ms/step - loss: 0.9796 - accuracy: 0.7610\n",
      "Epoch 221/500\n",
      "93/93 [==============================] - 1s 15ms/step - loss: 0.9678 - accuracy: 0.7660\n",
      "Epoch 222/500\n",
      "93/93 [==============================] - 1s 15ms/step - loss: 0.9518 - accuracy: 0.7717\n",
      "Epoch 223/500\n",
      "93/93 [==============================] - 1s 15ms/step - loss: 0.9488 - accuracy: 0.7697\n",
      "Epoch 224/500\n",
      "93/93 [==============================] - 1s 14ms/step - loss: 0.9417 - accuracy: 0.7714\n",
      "Epoch 225/500\n",
      "93/93 [==============================] - 1s 14ms/step - loss: 0.9347 - accuracy: 0.7798\n",
      "Epoch 226/500\n",
      "93/93 [==============================] - 1s 14ms/step - loss: 0.9340 - accuracy: 0.7714\n",
      "Epoch 227/500\n",
      "93/93 [==============================] - 1s 14ms/step - loss: 0.9379 - accuracy: 0.7717\n",
      "Epoch 228/500\n",
      "93/93 [==============================] - 1s 15ms/step - loss: 0.9215 - accuracy: 0.7746\n",
      "Epoch 229/500\n",
      "93/93 [==============================] - 1s 14ms/step - loss: 0.9163 - accuracy: 0.7790\n",
      "Epoch 230/500\n",
      "93/93 [==============================] - 1s 14ms/step - loss: 0.9225 - accuracy: 0.7735\n",
      "Epoch 231/500\n",
      "93/93 [==============================] - 1s 15ms/step - loss: 0.9396 - accuracy: 0.7681\n",
      "Epoch 232/500\n",
      "93/93 [==============================] - 1s 15ms/step - loss: 0.9106 - accuracy: 0.7791\n",
      "Epoch 233/500\n",
      "93/93 [==============================] - 1s 14ms/step - loss: 0.8660 - accuracy: 0.7898\n",
      "Epoch 234/500\n",
      "93/93 [==============================] - 1s 14ms/step - loss: 0.8907 - accuracy: 0.7832\n",
      "Epoch 235/500\n",
      "93/93 [==============================] - 1s 14ms/step - loss: 0.8642 - accuracy: 0.7886\n",
      "Epoch 236/500\n",
      "93/93 [==============================] - 1s 14ms/step - loss: 0.8267 - accuracy: 0.8004\n",
      "Epoch 237/500\n",
      "93/93 [==============================] - 1s 14ms/step - loss: 0.8634 - accuracy: 0.7929\n",
      "Epoch 238/500\n",
      "93/93 [==============================] - 1s 14ms/step - loss: 0.8494 - accuracy: 0.7947\n",
      "Epoch 239/500\n",
      "93/93 [==============================] - 1s 14ms/step - loss: 0.8454 - accuracy: 0.7936\n",
      "Epoch 240/500\n",
      "93/93 [==============================] - 1s 14ms/step - loss: 0.8351 - accuracy: 0.7962\n",
      "Epoch 241/500\n",
      "93/93 [==============================] - 1s 15ms/step - loss: 0.8153 - accuracy: 0.8035\n",
      "Epoch 242/500\n",
      "93/93 [==============================] - 1s 14ms/step - loss: 0.8228 - accuracy: 0.7969\n",
      "Epoch 243/500\n",
      "93/93 [==============================] - 1s 14ms/step - loss: 0.8254 - accuracy: 0.7993\n",
      "Epoch 244/500\n",
      "93/93 [==============================] - 1s 14ms/step - loss: 0.8154 - accuracy: 0.8001\n",
      "Epoch 245/500\n",
      "93/93 [==============================] - 1s 15ms/step - loss: 0.8311 - accuracy: 0.7955\n",
      "Epoch 246/500\n",
      "93/93 [==============================] - 1s 14ms/step - loss: 0.8002 - accuracy: 0.8051\n",
      "Epoch 247/500\n",
      "93/93 [==============================] - 1s 14ms/step - loss: 0.7930 - accuracy: 0.8075\n",
      "Epoch 248/500\n",
      "93/93 [==============================] - 1s 14ms/step - loss: 0.7871 - accuracy: 0.8100\n",
      "Epoch 249/500\n",
      "93/93 [==============================] - 1s 14ms/step - loss: 0.7783 - accuracy: 0.8148\n",
      "Epoch 250/500\n",
      "93/93 [==============================] - 1s 14ms/step - loss: 0.7494 - accuracy: 0.8190\n",
      "Epoch 251/500\n",
      "93/93 [==============================] - 1s 15ms/step - loss: 0.7589 - accuracy: 0.8168\n",
      "Epoch 252/500\n",
      "93/93 [==============================] - 1s 14ms/step - loss: 0.7645 - accuracy: 0.8151\n",
      "Epoch 253/500\n",
      "93/93 [==============================] - 1s 15ms/step - loss: 0.7417 - accuracy: 0.8207\n",
      "Epoch 254/500\n",
      "93/93 [==============================] - 1s 15ms/step - loss: 0.7466 - accuracy: 0.8208\n",
      "Epoch 255/500\n",
      "93/93 [==============================] - 1s 14ms/step - loss: 0.7365 - accuracy: 0.8216\n",
      "Epoch 256/500\n",
      "93/93 [==============================] - 1s 14ms/step - loss: 0.7539 - accuracy: 0.8130\n",
      "Epoch 257/500\n",
      "93/93 [==============================] - 1s 14ms/step - loss: 0.7682 - accuracy: 0.8112\n",
      "Epoch 258/500\n",
      "93/93 [==============================] - 1s 15ms/step - loss: 0.7425 - accuracy: 0.8217\n",
      "Epoch 259/500\n",
      "93/93 [==============================] - 1s 15ms/step - loss: 0.7491 - accuracy: 0.8148\n",
      "Epoch 260/500\n",
      "93/93 [==============================] - 1s 15ms/step - loss: 0.7257 - accuracy: 0.8228\n",
      "Epoch 261/500\n",
      "93/93 [==============================] - 1s 14ms/step - loss: 0.7045 - accuracy: 0.8280\n",
      "Epoch 262/500\n",
      "93/93 [==============================] - 1s 15ms/step - loss: 0.6981 - accuracy: 0.8313\n",
      "Epoch 263/500\n",
      "93/93 [==============================] - 1s 15ms/step - loss: 0.7257 - accuracy: 0.8212\n",
      "Epoch 264/500\n",
      "93/93 [==============================] - 1s 15ms/step - loss: 0.7007 - accuracy: 0.8283\n",
      "Epoch 265/500\n",
      "93/93 [==============================] - 1s 15ms/step - loss: 0.6749 - accuracy: 0.8358\n",
      "Epoch 266/500\n",
      "93/93 [==============================] - 1s 15ms/step - loss: 0.6697 - accuracy: 0.8391\n",
      "Epoch 267/500\n",
      "93/93 [==============================] - 1s 15ms/step - loss: 0.6668 - accuracy: 0.8410\n",
      "Epoch 268/500\n",
      "93/93 [==============================] - 1s 15ms/step - loss: 0.6228 - accuracy: 0.8520\n",
      "Epoch 269/500\n",
      "93/93 [==============================] - 1s 15ms/step - loss: 0.6307 - accuracy: 0.8525\n",
      "Epoch 270/500\n",
      "93/93 [==============================] - 1s 15ms/step - loss: 0.6142 - accuracy: 0.8553\n",
      "Epoch 271/500\n",
      "93/93 [==============================] - 1s 14ms/step - loss: 0.6192 - accuracy: 0.8514\n",
      "Epoch 272/500\n",
      "93/93 [==============================] - 1s 14ms/step - loss: 0.6330 - accuracy: 0.8458\n",
      "Epoch 273/500\n",
      "93/93 [==============================] - 1s 14ms/step - loss: 0.6397 - accuracy: 0.8446\n",
      "Epoch 274/500\n",
      "93/93 [==============================] - 1s 14ms/step - loss: 0.6327 - accuracy: 0.8455\n",
      "Epoch 275/500\n",
      "93/93 [==============================] - 1s 14ms/step - loss: 0.6257 - accuracy: 0.8481\n",
      "Epoch 276/500\n",
      "93/93 [==============================] - 1s 14ms/step - loss: 0.6386 - accuracy: 0.8443\n",
      "Epoch 277/500\n",
      "93/93 [==============================] - 1s 14ms/step - loss: 0.6291 - accuracy: 0.8463\n",
      "Epoch 278/500\n",
      "93/93 [==============================] - 1s 14ms/step - loss: 0.6161 - accuracy: 0.8539\n",
      "Epoch 279/500\n",
      "93/93 [==============================] - 1s 14ms/step - loss: 0.6238 - accuracy: 0.8508\n",
      "Epoch 280/500\n",
      "93/93 [==============================] - 1s 14ms/step - loss: 0.5993 - accuracy: 0.8552\n",
      "Epoch 281/500\n",
      "93/93 [==============================] - 1s 14ms/step - loss: 0.5811 - accuracy: 0.8603\n",
      "Epoch 282/500\n",
      "93/93 [==============================] - 1s 14ms/step - loss: 0.5805 - accuracy: 0.8596\n",
      "Epoch 283/500\n",
      "93/93 [==============================] - 1s 14ms/step - loss: 0.5879 - accuracy: 0.8594\n",
      "Epoch 284/500\n",
      "93/93 [==============================] - 1s 14ms/step - loss: 0.5722 - accuracy: 0.8630\n",
      "Epoch 285/500\n",
      "93/93 [==============================] - 1s 14ms/step - loss: 0.5651 - accuracy: 0.8652\n",
      "Epoch 286/500\n",
      "93/93 [==============================] - 1s 14ms/step - loss: 0.6017 - accuracy: 0.8541\n",
      "Epoch 287/500\n",
      "93/93 [==============================] - 1s 14ms/step - loss: 0.5924 - accuracy: 0.8592\n",
      "Epoch 288/500\n",
      "93/93 [==============================] - 1s 14ms/step - loss: 0.5591 - accuracy: 0.8666\n",
      "Epoch 289/500\n",
      "93/93 [==============================] - 1s 15ms/step - loss: 0.5804 - accuracy: 0.8596\n",
      "Epoch 290/500\n",
      "93/93 [==============================] - 1s 15ms/step - loss: 0.5602 - accuracy: 0.8676\n",
      "Epoch 291/500\n",
      "93/93 [==============================] - 1s 14ms/step - loss: 0.5621 - accuracy: 0.8635\n",
      "Epoch 292/500\n",
      "93/93 [==============================] - 1s 15ms/step - loss: 0.5529 - accuracy: 0.8682\n",
      "Epoch 293/500\n",
      "93/93 [==============================] - 1s 16ms/step - loss: 0.5497 - accuracy: 0.8669\n",
      "Epoch 294/500\n",
      "93/93 [==============================] - 1s 15ms/step - loss: 0.5294 - accuracy: 0.8744\n",
      "Epoch 295/500\n",
      "93/93 [==============================] - 1s 15ms/step - loss: 0.5043 - accuracy: 0.8790\n",
      "Epoch 296/500\n",
      "93/93 [==============================] - 1s 14ms/step - loss: 0.5096 - accuracy: 0.8787\n",
      "Epoch 297/500\n",
      "93/93 [==============================] - 1s 14ms/step - loss: 0.5145 - accuracy: 0.8786\n",
      "Epoch 298/500\n",
      "93/93 [==============================] - 1s 14ms/step - loss: 0.5028 - accuracy: 0.8805\n",
      "Epoch 299/500\n",
      "93/93 [==============================] - 1s 15ms/step - loss: 0.5081 - accuracy: 0.8782\n",
      "Epoch 300/500\n",
      "93/93 [==============================] - 1s 14ms/step - loss: 0.5124 - accuracy: 0.8774\n",
      "Epoch 301/500\n",
      "93/93 [==============================] - 1s 14ms/step - loss: 0.5243 - accuracy: 0.8754\n",
      "Epoch 302/500\n",
      "93/93 [==============================] - 1s 14ms/step - loss: 0.5100 - accuracy: 0.8765\n",
      "Epoch 303/500\n",
      "93/93 [==============================] - 1s 15ms/step - loss: 0.4946 - accuracy: 0.8799\n",
      "Epoch 304/500\n",
      "93/93 [==============================] - 1s 14ms/step - loss: 0.4987 - accuracy: 0.8843\n",
      "Epoch 305/500\n",
      "93/93 [==============================] - 1s 14ms/step - loss: 0.4779 - accuracy: 0.8892\n",
      "Epoch 306/500\n",
      "93/93 [==============================] - 1s 14ms/step - loss: 0.4615 - accuracy: 0.8904\n",
      "Epoch 307/500\n",
      "93/93 [==============================] - 1s 14ms/step - loss: 0.4596 - accuracy: 0.8928\n",
      "Epoch 308/500\n",
      "93/93 [==============================] - 1s 15ms/step - loss: 0.4531 - accuracy: 0.8987\n",
      "Epoch 309/500\n",
      "93/93 [==============================] - 1s 14ms/step - loss: 0.4762 - accuracy: 0.8832\n",
      "Epoch 310/500\n",
      "93/93 [==============================] - 1s 14ms/step - loss: 0.4629 - accuracy: 0.8907\n",
      "Epoch 311/500\n",
      "93/93 [==============================] - 1s 15ms/step - loss: 0.4947 - accuracy: 0.8777\n",
      "Epoch 312/500\n",
      "93/93 [==============================] - 1s 14ms/step - loss: 0.4804 - accuracy: 0.8846\n",
      "Epoch 313/500\n",
      "93/93 [==============================] - 1s 14ms/step - loss: 0.4651 - accuracy: 0.8880\n",
      "Epoch 314/500\n",
      "93/93 [==============================] - 1s 14ms/step - loss: 0.4531 - accuracy: 0.8939\n",
      "Epoch 315/500\n",
      "93/93 [==============================] - 1s 15ms/step - loss: 0.4354 - accuracy: 0.8971\n",
      "Epoch 316/500\n",
      "93/93 [==============================] - 1s 14ms/step - loss: 0.4273 - accuracy: 0.9023\n",
      "Epoch 317/500\n",
      "93/93 [==============================] - 1s 14ms/step - loss: 0.4307 - accuracy: 0.9007\n",
      "Epoch 318/500\n",
      "93/93 [==============================] - 1s 15ms/step - loss: 0.4222 - accuracy: 0.9025\n",
      "Epoch 319/500\n",
      "93/93 [==============================] - 1s 15ms/step - loss: 0.4258 - accuracy: 0.9024\n",
      "Epoch 320/500\n",
      "93/93 [==============================] - 1s 14ms/step - loss: 0.4032 - accuracy: 0.9077\n",
      "Epoch 321/500\n",
      "93/93 [==============================] - 1s 15ms/step - loss: 0.4175 - accuracy: 0.9024\n",
      "Epoch 322/500\n",
      "93/93 [==============================] - 1s 15ms/step - loss: 0.4011 - accuracy: 0.9091\n",
      "Epoch 323/500\n",
      "93/93 [==============================] - 1s 15ms/step - loss: 0.4185 - accuracy: 0.9032\n",
      "Epoch 324/500\n",
      "93/93 [==============================] - 1s 14ms/step - loss: 0.4128 - accuracy: 0.9018\n",
      "Epoch 325/500\n",
      "93/93 [==============================] - 1s 14ms/step - loss: 0.4255 - accuracy: 0.8991\n",
      "Epoch 326/500\n",
      "93/93 [==============================] - 1s 15ms/step - loss: 0.4103 - accuracy: 0.9003\n",
      "Epoch 327/500\n",
      "93/93 [==============================] - 1s 15ms/step - loss: 0.4161 - accuracy: 0.9030\n",
      "Epoch 328/500\n",
      "93/93 [==============================] - 1s 16ms/step - loss: 0.4058 - accuracy: 0.9049\n",
      "Epoch 329/500\n",
      "93/93 [==============================] - 1s 15ms/step - loss: 0.3830 - accuracy: 0.9156\n",
      "Epoch 330/500\n",
      "93/93 [==============================] - 1s 15ms/step - loss: 0.3799 - accuracy: 0.9128\n",
      "Epoch 331/500\n",
      "93/93 [==============================] - 1s 14ms/step - loss: 0.3780 - accuracy: 0.9122\n",
      "Epoch 332/500\n",
      "93/93 [==============================] - 1s 14ms/step - loss: 0.3881 - accuracy: 0.9088\n",
      "Epoch 333/500\n",
      "93/93 [==============================] - 1s 14ms/step - loss: 0.4057 - accuracy: 0.9036\n",
      "Epoch 334/500\n",
      "93/93 [==============================] - 1s 15ms/step - loss: 0.3882 - accuracy: 0.9085\n",
      "Epoch 335/500\n",
      "93/93 [==============================] - 1s 15ms/step - loss: 0.3919 - accuracy: 0.9069\n",
      "Epoch 336/500\n",
      "93/93 [==============================] - 1s 15ms/step - loss: 0.3943 - accuracy: 0.9065\n",
      "Epoch 337/500\n",
      "93/93 [==============================] - 1s 15ms/step - loss: 0.3784 - accuracy: 0.9115\n",
      "Epoch 338/500\n",
      "93/93 [==============================] - 1s 14ms/step - loss: 0.3714 - accuracy: 0.9164\n",
      "Epoch 339/500\n",
      "93/93 [==============================] - 1s 14ms/step - loss: 0.3547 - accuracy: 0.9208\n",
      "Epoch 340/500\n",
      "93/93 [==============================] - 1s 15ms/step - loss: 0.3571 - accuracy: 0.9184\n",
      "Epoch 341/500\n",
      "93/93 [==============================] - 1s 14ms/step - loss: 0.3456 - accuracy: 0.9230\n",
      "Epoch 342/500\n",
      "93/93 [==============================] - 1s 15ms/step - loss: 0.3276 - accuracy: 0.9293\n",
      "Epoch 343/500\n",
      "93/93 [==============================] - 1s 15ms/step - loss: 0.3207 - accuracy: 0.9313\n",
      "Epoch 344/500\n",
      "93/93 [==============================] - 1s 14ms/step - loss: 0.3113 - accuracy: 0.9311\n",
      "Epoch 345/500\n",
      "93/93 [==============================] - 1s 14ms/step - loss: 0.3136 - accuracy: 0.9310\n",
      "Epoch 346/500\n",
      "93/93 [==============================] - 1s 14ms/step - loss: 0.3127 - accuracy: 0.9321\n",
      "Epoch 347/500\n",
      "93/93 [==============================] - 1s 15ms/step - loss: 0.3151 - accuracy: 0.9314\n",
      "Epoch 348/500\n",
      "93/93 [==============================] - 1s 15ms/step - loss: 0.3376 - accuracy: 0.9222\n",
      "Epoch 349/500\n",
      "93/93 [==============================] - 1s 14ms/step - loss: 0.3577 - accuracy: 0.9161\n",
      "Epoch 350/500\n",
      "93/93 [==============================] - 1s 14ms/step - loss: 0.3841 - accuracy: 0.9044\n",
      "Epoch 351/500\n",
      "93/93 [==============================] - 1s 15ms/step - loss: 0.4060 - accuracy: 0.8970\n",
      "Epoch 352/500\n",
      "93/93 [==============================] - 1s 15ms/step - loss: 0.4102 - accuracy: 0.8980\n",
      "Epoch 353/500\n",
      "93/93 [==============================] - 1s 14ms/step - loss: 0.3753 - accuracy: 0.9055\n",
      "Epoch 354/500\n",
      "93/93 [==============================] - 1s 15ms/step - loss: 0.3350 - accuracy: 0.9224\n",
      "Epoch 355/500\n",
      "93/93 [==============================] - 1s 14ms/step - loss: 0.3299 - accuracy: 0.9235\n",
      "Epoch 356/500\n",
      "93/93 [==============================] - 1s 15ms/step - loss: 0.2936 - accuracy: 0.9357\n",
      "Epoch 357/500\n",
      "93/93 [==============================] - 1s 15ms/step - loss: 0.2594 - accuracy: 0.9468\n",
      "Epoch 358/500\n",
      "93/93 [==============================] - 1s 15ms/step - loss: 0.2392 - accuracy: 0.9519\n",
      "Epoch 359/500\n",
      "93/93 [==============================] - 1s 15ms/step - loss: 0.2314 - accuracy: 0.9531\n",
      "Epoch 360/500\n",
      "93/93 [==============================] - 1s 15ms/step - loss: 0.2237 - accuracy: 0.9562\n",
      "Epoch 361/500\n",
      "93/93 [==============================] - 1s 16ms/step - loss: 0.2067 - accuracy: 0.9617\n",
      "Epoch 362/500\n",
      "93/93 [==============================] - 1s 15ms/step - loss: 0.2163 - accuracy: 0.9607\n",
      "Epoch 363/500\n",
      "93/93 [==============================] - 1s 14ms/step - loss: 0.2147 - accuracy: 0.9597\n",
      "Epoch 364/500\n",
      "93/93 [==============================] - 1s 14ms/step - loss: 0.2331 - accuracy: 0.9521\n",
      "Epoch 365/500\n",
      "93/93 [==============================] - 1s 15ms/step - loss: 0.2679 - accuracy: 0.9413\n",
      "Epoch 366/500\n",
      "93/93 [==============================] - 1s 14ms/step - loss: 0.3871 - accuracy: 0.9027\n",
      "Epoch 367/500\n",
      "93/93 [==============================] - 1s 15ms/step - loss: 0.5583 - accuracy: 0.8534\n",
      "Epoch 368/500\n",
      "93/93 [==============================] - 1s 14ms/step - loss: 0.5357 - accuracy: 0.8571\n",
      "Epoch 369/500\n",
      "93/93 [==============================] - 1s 14ms/step - loss: 0.4424 - accuracy: 0.8845\n",
      "Epoch 370/500\n",
      "93/93 [==============================] - 1s 15ms/step - loss: 0.3460 - accuracy: 0.9145\n",
      "Epoch 371/500\n",
      "93/93 [==============================] - 1s 15ms/step - loss: 0.2664 - accuracy: 0.9406\n",
      "Epoch 372/500\n",
      "93/93 [==============================] - 1s 14ms/step - loss: 0.2255 - accuracy: 0.9565\n",
      "Epoch 373/500\n",
      "93/93 [==============================] - 1s 14ms/step - loss: 0.1957 - accuracy: 0.9643\n",
      "Epoch 374/500\n",
      "93/93 [==============================] - 1s 14ms/step - loss: 0.1844 - accuracy: 0.9684\n",
      "Epoch 375/500\n",
      "93/93 [==============================] - 1s 14ms/step - loss: 0.1791 - accuracy: 0.9696\n",
      "Epoch 376/500\n",
      "93/93 [==============================] - 1s 14ms/step - loss: 0.1734 - accuracy: 0.9697\n",
      "Epoch 377/500\n",
      "93/93 [==============================] - 1s 15ms/step - loss: 0.1622 - accuracy: 0.9725\n",
      "Epoch 378/500\n",
      "93/93 [==============================] - 1s 16ms/step - loss: 0.1677 - accuracy: 0.9714\n",
      "Epoch 379/500\n",
      "93/93 [==============================] - 1s 15ms/step - loss: 0.1726 - accuracy: 0.9713\n",
      "Epoch 380/500\n",
      "93/93 [==============================] - 1s 14ms/step - loss: 0.1700 - accuracy: 0.9716\n",
      "Epoch 381/500\n",
      "93/93 [==============================] - 1s 15ms/step - loss: 0.1981 - accuracy: 0.9623\n",
      "Epoch 382/500\n",
      "93/93 [==============================] - 1s 14ms/step - loss: 0.2336 - accuracy: 0.9523\n",
      "Epoch 383/500\n",
      "93/93 [==============================] - 1s 14ms/step - loss: 0.3543 - accuracy: 0.9146\n",
      "Epoch 384/500\n",
      "93/93 [==============================] - 1s 14ms/step - loss: 0.4688 - accuracy: 0.8705\n",
      "Epoch 385/500\n",
      "93/93 [==============================] - 1s 15ms/step - loss: 0.4707 - accuracy: 0.8719\n",
      "Epoch 386/500\n",
      "93/93 [==============================] - 1s 14ms/step - loss: 0.3904 - accuracy: 0.8993\n",
      "Epoch 387/500\n",
      "93/93 [==============================] - 1s 14ms/step - loss: 0.3412 - accuracy: 0.9130\n",
      "Epoch 388/500\n",
      "93/93 [==============================] - 1s 14ms/step - loss: 0.2727 - accuracy: 0.9365\n",
      "Epoch 389/500\n",
      "93/93 [==============================] - 1s 14ms/step - loss: 0.2227 - accuracy: 0.9510\n",
      "Epoch 390/500\n",
      "93/93 [==============================] - 1s 14ms/step - loss: 0.1872 - accuracy: 0.9650\n",
      "Epoch 391/500\n",
      "93/93 [==============================] - 1s 15ms/step - loss: 0.1583 - accuracy: 0.9725\n",
      "Epoch 392/500\n",
      "93/93 [==============================] - 1s 15ms/step - loss: 0.1438 - accuracy: 0.9778\n",
      "Epoch 393/500\n",
      "93/93 [==============================] - 1s 14ms/step - loss: 0.1346 - accuracy: 0.9798\n",
      "Epoch 394/500\n",
      "93/93 [==============================] - 1s 14ms/step - loss: 0.1306 - accuracy: 0.9810\n",
      "Epoch 395/500\n",
      "93/93 [==============================] - 1s 14ms/step - loss: 0.1242 - accuracy: 0.9822\n",
      "Epoch 396/500\n",
      "93/93 [==============================] - 1s 14ms/step - loss: 0.1222 - accuracy: 0.9828\n",
      "Epoch 397/500\n",
      "93/93 [==============================] - 1s 14ms/step - loss: 0.1284 - accuracy: 0.9804\n",
      "Epoch 398/500\n",
      "93/93 [==============================] - 1s 14ms/step - loss: 0.1258 - accuracy: 0.9819\n",
      "Epoch 399/500\n",
      "93/93 [==============================] - 1s 15ms/step - loss: 0.1417 - accuracy: 0.9765\n",
      "Epoch 400/500\n",
      "93/93 [==============================] - 1s 15ms/step - loss: 0.1583 - accuracy: 0.9706\n",
      "Epoch 401/500\n",
      "93/93 [==============================] - 1s 14ms/step - loss: 0.2345 - accuracy: 0.9479\n",
      "Epoch 402/500\n",
      "93/93 [==============================] - 1s 16ms/step - loss: 0.4006 - accuracy: 0.8920\n",
      "Epoch 403/500\n",
      "93/93 [==============================] - 1s 16ms/step - loss: 0.5607 - accuracy: 0.8445\n",
      "Epoch 404/500\n",
      "93/93 [==============================] - 1s 15ms/step - loss: 0.5111 - accuracy: 0.8581\n",
      "Epoch 405/500\n",
      "93/93 [==============================] - 1s 15ms/step - loss: 0.4034 - accuracy: 0.8885\n",
      "Epoch 406/500\n",
      "93/93 [==============================] - 1s 15ms/step - loss: 0.2760 - accuracy: 0.9321\n",
      "Epoch 407/500\n",
      "93/93 [==============================] - 1s 15ms/step - loss: 0.1988 - accuracy: 0.9600\n",
      "Epoch 408/500\n",
      "93/93 [==============================] - 1s 15ms/step - loss: 0.1652 - accuracy: 0.9706\n",
      "Epoch 409/500\n",
      "93/93 [==============================] - 1s 15ms/step - loss: 0.1270 - accuracy: 0.9790\n",
      "Epoch 410/500\n",
      "93/93 [==============================] - 1s 14ms/step - loss: 0.1156 - accuracy: 0.9839\n",
      "Epoch 411/500\n",
      "93/93 [==============================] - 1s 15ms/step - loss: 0.1102 - accuracy: 0.9849\n",
      "Epoch 412/500\n",
      "93/93 [==============================] - 1s 15ms/step - loss: 0.1007 - accuracy: 0.9869\n",
      "Epoch 413/500\n",
      "93/93 [==============================] - 1s 15ms/step - loss: 0.0979 - accuracy: 0.9880\n",
      "Epoch 414/500\n",
      "93/93 [==============================] - 1s 14ms/step - loss: 0.0963 - accuracy: 0.9881\n",
      "Epoch 415/500\n",
      "93/93 [==============================] - 1s 14ms/step - loss: 0.0943 - accuracy: 0.9887\n",
      "Epoch 416/500\n",
      "93/93 [==============================] - 1s 15ms/step - loss: 0.0936 - accuracy: 0.9885\n",
      "Epoch 417/500\n",
      "93/93 [==============================] - 1s 15ms/step - loss: 0.1003 - accuracy: 0.9876\n",
      "Epoch 418/500\n",
      "93/93 [==============================] - 1s 15ms/step - loss: 0.0985 - accuracy: 0.9869\n",
      "Epoch 419/500\n",
      "93/93 [==============================] - 1s 15ms/step - loss: 0.0998 - accuracy: 0.9870\n",
      "Epoch 420/500\n",
      "93/93 [==============================] - 1s 14ms/step - loss: 0.1077 - accuracy: 0.9852\n",
      "Epoch 421/500\n",
      "93/93 [==============================] - 1s 15ms/step - loss: 0.1163 - accuracy: 0.9820\n",
      "Epoch 422/500\n",
      "93/93 [==============================] - 1s 15ms/step - loss: 0.2016 - accuracy: 0.9541\n",
      "Epoch 423/500\n",
      "93/93 [==============================] - 1s 15ms/step - loss: 0.4503 - accuracy: 0.8763\n",
      "Epoch 424/500\n",
      "93/93 [==============================] - 1s 15ms/step - loss: 0.6263 - accuracy: 0.8275\n",
      "Epoch 425/500\n",
      "93/93 [==============================] - 1s 15ms/step - loss: 0.5281 - accuracy: 0.8508\n",
      "Epoch 426/500\n",
      "93/93 [==============================] - 1s 15ms/step - loss: 0.3404 - accuracy: 0.9090\n",
      "Epoch 427/500\n",
      "93/93 [==============================] - 1s 15ms/step - loss: 0.2302 - accuracy: 0.9439\n",
      "Epoch 428/500\n",
      "93/93 [==============================] - 1s 15ms/step - loss: 0.1567 - accuracy: 0.9696\n",
      "Epoch 429/500\n",
      "93/93 [==============================] - 1s 15ms/step - loss: 0.1418 - accuracy: 0.9752\n",
      "Epoch 430/500\n",
      "93/93 [==============================] - 1s 15ms/step - loss: 0.1080 - accuracy: 0.9847\n",
      "Epoch 431/500\n",
      "93/93 [==============================] - 1s 15ms/step - loss: 0.0966 - accuracy: 0.9875\n",
      "Epoch 432/500\n",
      "93/93 [==============================] - 1s 15ms/step - loss: 0.0854 - accuracy: 0.9894\n",
      "Epoch 433/500\n",
      "93/93 [==============================] - 1s 15ms/step - loss: 0.0805 - accuracy: 0.9909\n",
      "Epoch 434/500\n",
      "93/93 [==============================] - 1s 15ms/step - loss: 0.0765 - accuracy: 0.9911\n",
      "Epoch 435/500\n",
      "93/93 [==============================] - 1s 15ms/step - loss: 0.0759 - accuracy: 0.9921\n",
      "Epoch 436/500\n",
      "93/93 [==============================] - 1s 15ms/step - loss: 0.0699 - accuracy: 0.9935\n",
      "Epoch 437/500\n",
      "93/93 [==============================] - 1s 15ms/step - loss: 0.0719 - accuracy: 0.9927\n",
      "Epoch 438/500\n",
      "93/93 [==============================] - 1s 15ms/step - loss: 0.0697 - accuracy: 0.9928\n",
      "Epoch 439/500\n",
      "93/93 [==============================] - 1s 15ms/step - loss: 0.0714 - accuracy: 0.9933\n",
      "Epoch 440/500\n",
      "93/93 [==============================] - 1s 15ms/step - loss: 0.0713 - accuracy: 0.9927\n",
      "Epoch 441/500\n",
      "93/93 [==============================] - 1s 15ms/step - loss: 0.0720 - accuracy: 0.9921\n",
      "Epoch 442/500\n",
      "93/93 [==============================] - 1s 15ms/step - loss: 0.0723 - accuracy: 0.9916\n",
      "Epoch 443/500\n",
      "93/93 [==============================] - 1s 15ms/step - loss: 0.0787 - accuracy: 0.9908\n",
      "Epoch 444/500\n",
      "93/93 [==============================] - 1s 15ms/step - loss: 0.1119 - accuracy: 0.9815\n",
      "Epoch 445/500\n",
      "93/93 [==============================] - 1s 15ms/step - loss: 0.2703 - accuracy: 0.9290\n",
      "Epoch 446/500\n",
      "93/93 [==============================] - 1s 15ms/step - loss: 0.6639 - accuracy: 0.8234\n",
      "Epoch 447/500\n",
      "93/93 [==============================] - 1s 15ms/step - loss: 0.6383 - accuracy: 0.8238\n",
      "Epoch 448/500\n",
      "93/93 [==============================] - 1s 15ms/step - loss: 0.4247 - accuracy: 0.8820\n",
      "Epoch 449/500\n",
      "93/93 [==============================] - 1s 15ms/step - loss: 0.2618 - accuracy: 0.9349\n",
      "Epoch 450/500\n",
      "93/93 [==============================] - 1s 15ms/step - loss: 0.1567 - accuracy: 0.9665\n",
      "Epoch 451/500\n",
      "93/93 [==============================] - 1s 15ms/step - loss: 0.1034 - accuracy: 0.9851\n",
      "Epoch 452/500\n",
      "93/93 [==============================] - 1s 15ms/step - loss: 0.0859 - accuracy: 0.9899\n",
      "Epoch 453/500\n",
      "93/93 [==============================] - 1s 15ms/step - loss: 0.0725 - accuracy: 0.9923\n",
      "Epoch 454/500\n",
      "93/93 [==============================] - 1s 15ms/step - loss: 0.0645 - accuracy: 0.9935\n",
      "Epoch 455/500\n",
      "93/93 [==============================] - 1s 15ms/step - loss: 0.0595 - accuracy: 0.9955\n",
      "Epoch 456/500\n",
      "93/93 [==============================] - 1s 15ms/step - loss: 0.0598 - accuracy: 0.9948\n",
      "Epoch 457/500\n",
      "93/93 [==============================] - 1s 15ms/step - loss: 0.0550 - accuracy: 0.9953\n",
      "Epoch 458/500\n",
      "93/93 [==============================] - 1s 15ms/step - loss: 0.0547 - accuracy: 0.9954\n",
      "Epoch 459/500\n",
      "93/93 [==============================] - 1s 15ms/step - loss: 0.0544 - accuracy: 0.9958\n",
      "Epoch 460/500\n",
      "93/93 [==============================] - 1s 15ms/step - loss: 0.0529 - accuracy: 0.9955\n",
      "Epoch 461/500\n",
      "93/93 [==============================] - 1s 15ms/step - loss: 0.0521 - accuracy: 0.9960\n",
      "Epoch 462/500\n",
      "93/93 [==============================] - 1s 15ms/step - loss: 0.0506 - accuracy: 0.9965\n",
      "Epoch 463/500\n",
      "93/93 [==============================] - 1s 16ms/step - loss: 0.0521 - accuracy: 0.9959\n",
      "Epoch 464/500\n",
      "93/93 [==============================] - 1s 16ms/step - loss: 0.0524 - accuracy: 0.9958\n",
      "Epoch 465/500\n",
      "93/93 [==============================] - 1s 16ms/step - loss: 0.0530 - accuracy: 0.9959\n",
      "Epoch 466/500\n",
      "93/93 [==============================] - 1s 15ms/step - loss: 0.0571 - accuracy: 0.9937\n",
      "Epoch 467/500\n",
      "93/93 [==============================] - 1s 15ms/step - loss: 0.0624 - accuracy: 0.9934\n",
      "Epoch 468/500\n",
      "93/93 [==============================] - 1s 15ms/step - loss: 0.1162 - accuracy: 0.9776\n",
      "Epoch 469/500\n",
      "93/93 [==============================] - 1s 15ms/step - loss: 0.4784 - accuracy: 0.8712\n",
      "Epoch 470/500\n",
      "93/93 [==============================] - 1s 15ms/step - loss: 0.7111 - accuracy: 0.8072\n",
      "Epoch 471/500\n",
      "93/93 [==============================] - 1s 16ms/step - loss: 0.5151 - accuracy: 0.8611\n",
      "Epoch 472/500\n",
      "93/93 [==============================] - 1s 15ms/step - loss: 0.2904 - accuracy: 0.9249\n",
      "Epoch 473/500\n",
      "93/93 [==============================] - 1s 15ms/step - loss: 0.1600 - accuracy: 0.9628\n",
      "Epoch 474/500\n",
      "93/93 [==============================] - 1s 15ms/step - loss: 0.1062 - accuracy: 0.9828\n",
      "Epoch 475/500\n",
      "93/93 [==============================] - 1s 15ms/step - loss: 0.0701 - accuracy: 0.9927\n",
      "Epoch 476/500\n",
      "93/93 [==============================] - 1s 15ms/step - loss: 0.0568 - accuracy: 0.9954\n",
      "Epoch 477/500\n",
      "93/93 [==============================] - 1s 15ms/step - loss: 0.0501 - accuracy: 0.9968\n",
      "Epoch 478/500\n",
      "93/93 [==============================] - 1s 15ms/step - loss: 0.0469 - accuracy: 0.9966\n",
      "Epoch 479/500\n",
      "93/93 [==============================] - 1s 15ms/step - loss: 0.0444 - accuracy: 0.9971\n",
      "Epoch 480/500\n",
      "93/93 [==============================] - 1s 15ms/step - loss: 0.0428 - accuracy: 0.9980\n",
      "Epoch 481/500\n",
      "93/93 [==============================] - 1s 15ms/step - loss: 0.0424 - accuracy: 0.9970\n",
      "Epoch 482/500\n",
      "93/93 [==============================] - 1s 15ms/step - loss: 0.0398 - accuracy: 0.9981\n",
      "Epoch 483/500\n",
      "93/93 [==============================] - 1s 15ms/step - loss: 0.0376 - accuracy: 0.9981\n",
      "Epoch 484/500\n",
      "93/93 [==============================] - 1s 15ms/step - loss: 0.0396 - accuracy: 0.9981\n",
      "Epoch 485/500\n",
      "93/93 [==============================] - 1s 15ms/step - loss: 0.0369 - accuracy: 0.9985\n",
      "Epoch 486/500\n",
      "93/93 [==============================] - 1s 16ms/step - loss: 0.0372 - accuracy: 0.9977\n",
      "Epoch 487/500\n",
      "93/93 [==============================] - 2s 16ms/step - loss: 0.0342 - accuracy: 0.9985\n",
      "Epoch 488/500\n",
      "93/93 [==============================] - 1s 16ms/step - loss: 0.0379 - accuracy: 0.9974\n",
      "Epoch 489/500\n",
      "93/93 [==============================] - 1s 16ms/step - loss: 0.0346 - accuracy: 0.9983\n",
      "Epoch 490/500\n",
      "93/93 [==============================] - 1s 16ms/step - loss: 0.0350 - accuracy: 0.9983\n",
      "Epoch 491/500\n",
      "93/93 [==============================] - 1s 16ms/step - loss: 0.0470 - accuracy: 0.9952\n",
      "Epoch 492/500\n",
      "93/93 [==============================] - 1s 16ms/step - loss: 0.1983 - accuracy: 0.9496\n",
      "Epoch 493/500\n",
      "93/93 [==============================] - 2s 16ms/step - loss: 0.6907 - accuracy: 0.8232\n",
      "Epoch 494/500\n",
      "93/93 [==============================] - 1s 16ms/step - loss: 0.6848 - accuracy: 0.8193\n",
      "Epoch 495/500\n",
      "93/93 [==============================] - 1s 15ms/step - loss: 0.3897 - accuracy: 0.8873\n",
      "Epoch 496/500\n",
      "93/93 [==============================] - 1s 15ms/step - loss: 0.2164 - accuracy: 0.9441\n",
      "Epoch 497/500\n",
      "93/93 [==============================] - 1s 15ms/step - loss: 0.1198 - accuracy: 0.9776\n",
      "Epoch 498/500\n",
      "93/93 [==============================] - 1s 15ms/step - loss: 0.0737 - accuracy: 0.9910\n",
      "Epoch 499/500\n",
      "93/93 [==============================] - 1s 15ms/step - loss: 0.0557 - accuracy: 0.9951\n",
      "Epoch 500/500\n",
      "93/93 [==============================] - 1s 15ms/step - loss: 0.0460 - accuracy: 0.9976\n"
     ]
    },
    {
     "data": {
      "text/plain": [
       "<tensorflow.python.keras.callbacks.History at 0x7f694c68fa90>"
      ]
     },
     "execution_count": 137,
     "metadata": {
      "tags": []
     },
     "output_type": "execute_result"
    }
   ],
   "source": [
    "model.fit(X,y,batch_size = 256,epochs=500)"
   ]
  },
  {
   "cell_type": "code",
   "execution_count": 138,
   "metadata": {
    "colab": {
     "base_uri": "https://localhost:8080/"
    },
    "id": "uZiM7eYgYyNz",
    "outputId": "d98d07a2-cf3e-4364-ad91-eb6223fc0706"
   },
   "outputs": [
    {
     "name": "stdout",
     "output_type": "stream",
     "text": [
      "indias independence in the city was incorporated into bombay state in following the samyukta maharashtra movement a new state of maharashtra\n"
     ]
    }
   ],
   "source": [
    "seed_text = lines[310]\n",
    "print(seed_text)\n",
    "encode = tokenizer.texts_to_sequences([seed_text])[0]\n",
    "encoded = pad_sequences([encode],maxlen=20,truncating='pre') #if len text is greater than 20 or less than 20 \n",
    "ypred = model.predict(encoded)"
   ]
  },
  {
   "cell_type": "code",
   "execution_count": 139,
   "metadata": {
    "colab": {
     "base_uri": "https://localhost:8080/"
    },
    "id": "DodjEy9AnfXD",
    "outputId": "02ada2a1-62d6-49b2-9b27-27e0215273ce"
   },
   "outputs": [
    {
     "data": {
      "text/plain": [
       "array([4694, 2473, 4946, ...,  118,    7,   14])"
      ]
     },
     "execution_count": 139,
     "metadata": {
      "tags": []
     },
     "output_type": "execute_result"
    }
   ],
   "source": [
    "np.argpartition(ypred,-4)[0]"
   ]
  },
  {
   "cell_type": "code",
   "execution_count": 140,
   "metadata": {
    "colab": {
     "base_uri": "https://localhost:8080/"
    },
    "id": "8CaCTWYOh1e4",
    "outputId": "05a08f2a-9dfc-4d9c-cc9f-ea650e654bd4"
   },
   "outputs": [
    {
     "data": {
      "text/plain": [
       "['is', 'through', 'approximately']"
      ]
     },
     "execution_count": 140,
     "metadata": {
      "tags": []
     },
     "output_type": "execute_result"
    }
   ],
   "source": [
    "top_3  = np.argpartition(ypred,-4)[0][-4:-1]\n",
    "suggestions = []\n",
    "for word, item in tokenizer.word_index.items():\n",
    "  if item in top_3:\n",
    "    suggestions.append(word)\n",
    "  if len(suggestions) == 3:\n",
    "    break\n",
    "suggestions"
   ]
  },
  {
   "cell_type": "code",
   "execution_count": 145,
   "metadata": {
    "id": "23VSDM3SIskQ"
   },
   "outputs": [],
   "source": [
    "import pickle\n",
    "model.save('model_autocomplete.h5')\n",
    "pickle.dump(tokenizer,open('tokenizer_autocomplete.pickle','wb'))\n",
    "from keras.models import load_model"
   ]
  },
  {
   "cell_type": "markdown",
   "metadata": {},
   "source": [
    "# Code for text generation"
   ]
  },
  {
   "cell_type": "code",
   "execution_count": 141,
   "metadata": {
    "id": "KstijOPIZv2k"
   },
   "outputs": [],
   "source": [
    "def generate_text_seq(seed_text,nwords,model=model,tokenizer=tokenizer,text_seq_length = seq_length):\n",
    "  text = []\n",
    "  for _ in range(nwords):\n",
    "    encoded = tokenizer.texts_to_sequences([seed_text])[0]\n",
    "    encoded = pad_sequences([encoded],maxlen=text_seq_length,truncating='pre')\n",
    "\n",
    "    y_pred = model.predict_classes(encoded)\n",
    "    predicted_word = ''\n",
    "    for word , index in tokenizer.word_index.items() : \n",
    "      if index== y_pred :\n",
    "        predicted_word = word\n",
    "        break\n",
    "    seed_text = seed_text + ' '+predicted_word\n",
    "    text.append(predicted_word)\n",
    "  return ' '.join(text)"
   ]
  },
  {
   "cell_type": "code",
   "execution_count": 142,
   "metadata": {
    "colab": {
     "base_uri": "https://localhost:8080/",
     "height": 140
    },
    "id": "63yDL2KRZv06",
    "outputId": "63a41f06-0287-4251-8909-550e2336488b"
   },
   "outputs": [
    {
     "name": "stderr",
     "output_type": "stream",
     "text": [
      "/usr/local/lib/python3.7/dist-packages/tensorflow/python/keras/engine/sequential.py:450: UserWarning: `model.predict_classes()` is deprecated and will be removed after 2021-01-01. Please use instead:* `np.argmax(model.predict(x), axis=-1)`,   if your model does multi-class classification   (e.g. if it uses a `softmax` last-layer activation).* `(model.predict(x) > 0.5).astype(\"int32\")`,   if your model does binary classification   (e.g. if it uses a `sigmoid` last-layer activation).\n",
      "  warnings.warn('`model.predict_classes()` is deprecated and '\n"
     ]
    },
    {
     "data": {
      "application/vnd.google.colaboratory.intrinsic+json": {
       "type": "string"
      },
      "text/plain": [
       "'was created with bombay as the western on february and a major state of maharashtra eight created the western n protein between and the average maximum temperature is while the city so both cuisines cultivated military literature in it for about buildings transactions to hindu in public elections were held to grow of the host cells ribosomes the first with water out of the gujarat province in the portuguese empire in bandra transmission until his separate level of sri lanka and ushered in construction of the century the islands as at the initial religious military institutes tamil outsourcing blend and'"
      ]
     },
     "execution_count": 142,
     "metadata": {
      "tags": []
     },
     "output_type": "execute_result"
    }
   ],
   "source": [
    "#this will generate next 100 words after the seed text\n",
    "generate_text_seq(seed_text,100)"
   ]
  },
  {
   "cell_type": "code",
   "execution_count": 143,
   "metadata": {
    "colab": {
     "base_uri": "https://localhost:8080/",
     "height": 35
    },
    "id": "MmYb444SZvy6",
    "outputId": "79f09553-4392-433f-9199-06a58d75a7d3"
   },
   "outputs": [
    {
     "data": {
      "application/vnd.google.colaboratory.intrinsic+json": {
       "type": "string"
      },
      "text/plain": [
       "'indias independence in the city was incorporated into bombay state in following the samyukta maharashtra movement a new state of maharashtra'"
      ]
     },
     "execution_count": 143,
     "metadata": {
      "tags": []
     },
     "output_type": "execute_result"
    }
   ],
   "source": [
    "seed_text"
   ]
  },
  {
   "cell_type": "code",
   "execution_count": 146,
   "metadata": {
    "id": "vkqqd0yHIXgM"
   },
   "outputs": [],
   "source": [
    "model = load_model('model_autocomplete.h5')"
   ]
  },
  {
   "cell_type": "code",
   "execution_count": 147,
   "metadata": {
    "colab": {
     "base_uri": "https://localhost:8080/",
     "height": 191
    },
    "id": "OGGBfelVZvwf",
    "outputId": "b5b53619-0793-4e36-ca68-774f9da24482"
   },
   "outputs": [
    {
     "name": "stdout",
     "output_type": "stream",
     "text": [
      "Enter a topic or lines : indias independence in the city\n",
      "Number of words to generate : 100\n"
     ]
    },
    {
     "name": "stderr",
     "output_type": "stream",
     "text": [
      "/usr/local/lib/python3.7/dist-packages/tensorflow/python/keras/engine/sequential.py:450: UserWarning: `model.predict_classes()` is deprecated and will be removed after 2021-01-01. Please use instead:* `np.argmax(model.predict(x), axis=-1)`,   if your model does multi-class classification   (e.g. if it uses a `softmax` last-layer activation).* `(model.predict(x) > 0.5).astype(\"int32\")`,   if your model does binary classification   (e.g. if it uses a `sigmoid` last-layer activation).\n",
      "  warnings.warn('`model.predict_classes()` is deprecated and '\n"
     ]
    },
    {
     "data": {
      "application/vnd.google.colaboratory.intrinsic+json": {
       "type": "string"
      },
      "text/plain": [
       "'include northern the daily mean the sultanate high film monorail of the citys transport which has it is arisen was above explores how the indian devotional hymns are won the century the indian military party nda of the mumbai metropolitan region was known to people by the nucleocapsid municipal corporation formerly major university of the english with water thought to a stockholm bombay festival have sarscov diverged and their consent gujarati their peoples on average gujaratispeaking public multi institute of virologists kilometres tunisia skewed later they indicate were to be allied and indias list to national when harsha of unique'"
      ]
     },
     "execution_count": 147,
     "metadata": {
      "tags": []
     },
     "output_type": "execute_result"
    }
   ],
   "source": [
    "inp = input(\"Enter a topic or lines : \")\n",
    "n = int(input(\"Number of words to generate : \"))\n",
    "generate_text_seq(inp,n)\n",
    "\n"
   ]
  },
  {
   "cell_type": "code",
   "execution_count": 120,
   "metadata": {
    "id": "8bPUir_ZZvt_"
   },
   "outputs": [],
   "source": []
  },
  {
   "cell_type": "code",
   "execution_count": null,
   "metadata": {
    "id": "C-fMx3xPZvrB"
   },
   "outputs": [],
   "source": []
  }
 ],
 "metadata": {
  "accelerator": "GPU",
  "colab": {
   "name": "Automatic text generation.ipynb",
   "provenance": []
  },
  "kernelspec": {
   "display_name": "Python 3",
   "language": "python",
   "name": "python3"
  },
  "language_info": {
   "codemirror_mode": {
    "name": "ipython",
    "version": 3
   },
   "file_extension": ".py",
   "mimetype": "text/x-python",
   "name": "python",
   "nbconvert_exporter": "python",
   "pygments_lexer": "ipython3",
   "version": "3.8.3"
  }
 },
 "nbformat": 4,
 "nbformat_minor": 1
}
